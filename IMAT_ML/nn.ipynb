{
 "cells": [
  {
   "cell_type": "markdown",
   "metadata": {},
   "source": [
    "### IMAT\n",
    "\n",
    "> "
   ]
  },
  {
   "cell_type": "code",
   "execution_count": 57,
   "metadata": {
    "collapsed": false
   },
   "outputs": [],
   "source": [
    "import sys\n",
    "import os\n",
    "import csv\n",
    "import pandas as pd\n",
    "import seaborn as sns\n",
    "import numpy as np\n",
    "#np.set_printoptions(threshold=np.nan)\n",
    "from sklearn.neural_network import MLPClassifier\n",
    "from sklearn.metrics import confusion_matrix\n",
    "from sklearn import metrics\n",
    "from sklearn.cross_validation import cross_val_score\n",
    "from sklearn.cross_validation import train_test_split\n",
    "from sklearn.grid_search import RandomizedSearchCV\n",
    "import matplotlib.pyplot as plt\n",
    "%matplotlib inline\n",
    "from time import time\n",
    "from scipy import stats\n",
    "import matplotlib.font_manager\n",
    "from sklearn import svm\n",
    "import pickle\n",
    "from sklearn.decomposition import PCA\n",
    "\n"
   ]
  },
  {
   "cell_type": "markdown",
   "metadata": {},
   "source": [
    "### Reading data"
   ]
  },
  {
   "cell_type": "code",
   "execution_count": 58,
   "metadata": {
    "collapsed": false
   },
   "outputs": [],
   "source": [
    "#data = pd.read_csv('Final_Ecomm_data_19thJan.csv')#,index_col=0)\n",
    "data = pd.read_csv('IMAT_train.csv')#,index_col=0)"
   ]
  },
  {
   "cell_type": "code",
   "execution_count": 59,
   "metadata": {
    "collapsed": false,
    "scrolled": false
   },
   "outputs": [
    {
     "data": {
      "text/html": [
       "<div>\n",
       "<table border=\"1\" class=\"dataframe\">\n",
       "  <thead>\n",
       "    <tr style=\"text-align: right;\">\n",
       "      <th></th>\n",
       "      <th>src_uid</th>\n",
       "      <th>trn_uid</th>\n",
       "      <th>purpose</th>\n",
       "      <th>destination</th>\n",
       "      <th>year</th>\n",
       "      <th>spare_time</th>\n",
       "      <th>degree</th>\n",
       "      <th>branch</th>\n",
       "      <th>gender</th>\n",
       "      <th>hostel</th>\n",
       "      <th>state</th>\n",
       "      <th>score</th>\n",
       "      <th>label</th>\n",
       "    </tr>\n",
       "  </thead>\n",
       "  <tbody>\n",
       "    <tr>\n",
       "      <th>0</th>\n",
       "      <td>2</td>\n",
       "      <td>4</td>\n",
       "      <td>0.0</td>\n",
       "      <td>6.847826</td>\n",
       "      <td>6</td>\n",
       "      <td>1.294118</td>\n",
       "      <td>5</td>\n",
       "      <td>4</td>\n",
       "      <td>0.0</td>\n",
       "      <td>0.0</td>\n",
       "      <td>0</td>\n",
       "      <td>23.141944</td>\n",
       "      <td>1</td>\n",
       "    </tr>\n",
       "    <tr>\n",
       "      <th>1</th>\n",
       "      <td>2</td>\n",
       "      <td>7</td>\n",
       "      <td>0.0</td>\n",
       "      <td>4.239130</td>\n",
       "      <td>6</td>\n",
       "      <td>3.558824</td>\n",
       "      <td>5</td>\n",
       "      <td>0</td>\n",
       "      <td>2.5</td>\n",
       "      <td>2.5</td>\n",
       "      <td>0</td>\n",
       "      <td>23.797954</td>\n",
       "      <td>1</td>\n",
       "    </tr>\n",
       "    <tr>\n",
       "      <th>2</th>\n",
       "      <td>2</td>\n",
       "      <td>25</td>\n",
       "      <td>0.0</td>\n",
       "      <td>5.217391</td>\n",
       "      <td>0</td>\n",
       "      <td>0.647059</td>\n",
       "      <td>5</td>\n",
       "      <td>0</td>\n",
       "      <td>0.0</td>\n",
       "      <td>0.0</td>\n",
       "      <td>0</td>\n",
       "      <td>10.864450</td>\n",
       "      <td>0</td>\n",
       "    </tr>\n",
       "    <tr>\n",
       "      <th>3</th>\n",
       "      <td>29</td>\n",
       "      <td>39</td>\n",
       "      <td>0.0</td>\n",
       "      <td>2.608696</td>\n",
       "      <td>0</td>\n",
       "      <td>4.852941</td>\n",
       "      <td>5</td>\n",
       "      <td>0</td>\n",
       "      <td>0.0</td>\n",
       "      <td>0.0</td>\n",
       "      <td>0</td>\n",
       "      <td>12.461637</td>\n",
       "      <td>0</td>\n",
       "    </tr>\n",
       "    <tr>\n",
       "      <th>4</th>\n",
       "      <td>29</td>\n",
       "      <td>47</td>\n",
       "      <td>0.0</td>\n",
       "      <td>5.217391</td>\n",
       "      <td>0</td>\n",
       "      <td>5.500000</td>\n",
       "      <td>0</td>\n",
       "      <td>4</td>\n",
       "      <td>2.5</td>\n",
       "      <td>0.0</td>\n",
       "      <td>0</td>\n",
       "      <td>17.217391</td>\n",
       "      <td>1</td>\n",
       "    </tr>\n",
       "    <tr>\n",
       "      <th>5</th>\n",
       "      <td>29</td>\n",
       "      <td>48</td>\n",
       "      <td>0.0</td>\n",
       "      <td>2.608696</td>\n",
       "      <td>6</td>\n",
       "      <td>0.970588</td>\n",
       "      <td>0</td>\n",
       "      <td>0</td>\n",
       "      <td>2.5</td>\n",
       "      <td>0.0</td>\n",
       "      <td>0</td>\n",
       "      <td>12.079284</td>\n",
       "      <td>0</td>\n",
       "    </tr>\n",
       "    <tr>\n",
       "      <th>6</th>\n",
       "      <td>53</td>\n",
       "      <td>56</td>\n",
       "      <td>7.5</td>\n",
       "      <td>5.869565</td>\n",
       "      <td>0</td>\n",
       "      <td>2.264706</td>\n",
       "      <td>0</td>\n",
       "      <td>0</td>\n",
       "      <td>2.5</td>\n",
       "      <td>0.0</td>\n",
       "      <td>0</td>\n",
       "      <td>18.134271</td>\n",
       "      <td>1</td>\n",
       "    </tr>\n",
       "    <tr>\n",
       "      <th>7</th>\n",
       "      <td>53</td>\n",
       "      <td>66</td>\n",
       "      <td>0.0</td>\n",
       "      <td>3.586957</td>\n",
       "      <td>0</td>\n",
       "      <td>0.647059</td>\n",
       "      <td>0</td>\n",
       "      <td>4</td>\n",
       "      <td>2.5</td>\n",
       "      <td>0.0</td>\n",
       "      <td>0</td>\n",
       "      <td>10.734015</td>\n",
       "      <td>0</td>\n",
       "    </tr>\n",
       "    <tr>\n",
       "      <th>8</th>\n",
       "      <td>53</td>\n",
       "      <td>69</td>\n",
       "      <td>0.0</td>\n",
       "      <td>3.586957</td>\n",
       "      <td>0</td>\n",
       "      <td>5.500000</td>\n",
       "      <td>0</td>\n",
       "      <td>0</td>\n",
       "      <td>2.5</td>\n",
       "      <td>0.0</td>\n",
       "      <td>0</td>\n",
       "      <td>11.586957</td>\n",
       "      <td>0</td>\n",
       "    </tr>\n",
       "    <tr>\n",
       "      <th>9</th>\n",
       "      <td>73</td>\n",
       "      <td>75</td>\n",
       "      <td>0.0</td>\n",
       "      <td>2.608696</td>\n",
       "      <td>0</td>\n",
       "      <td>1.294118</td>\n",
       "      <td>5</td>\n",
       "      <td>4</td>\n",
       "      <td>0.0</td>\n",
       "      <td>0.0</td>\n",
       "      <td>0</td>\n",
       "      <td>12.902813</td>\n",
       "      <td>0</td>\n",
       "    </tr>\n",
       "  </tbody>\n",
       "</table>\n",
       "</div>"
      ],
      "text/plain": [
       "   src_uid  trn_uid  purpose  destination  year  spare_time  degree  branch  \\\n",
       "0        2        4      0.0     6.847826     6    1.294118       5       4   \n",
       "1        2        7      0.0     4.239130     6    3.558824       5       0   \n",
       "2        2       25      0.0     5.217391     0    0.647059       5       0   \n",
       "3       29       39      0.0     2.608696     0    4.852941       5       0   \n",
       "4       29       47      0.0     5.217391     0    5.500000       0       4   \n",
       "5       29       48      0.0     2.608696     6    0.970588       0       0   \n",
       "6       53       56      7.5     5.869565     0    2.264706       0       0   \n",
       "7       53       66      0.0     3.586957     0    0.647059       0       4   \n",
       "8       53       69      0.0     3.586957     0    5.500000       0       0   \n",
       "9       73       75      0.0     2.608696     0    1.294118       5       4   \n",
       "\n",
       "   gender  hostel  state      score  label  \n",
       "0     0.0     0.0      0  23.141944      1  \n",
       "1     2.5     2.5      0  23.797954      1  \n",
       "2     0.0     0.0      0  10.864450      0  \n",
       "3     0.0     0.0      0  12.461637      0  \n",
       "4     2.5     0.0      0  17.217391      1  \n",
       "5     2.5     0.0      0  12.079284      0  \n",
       "6     2.5     0.0      0  18.134271      1  \n",
       "7     2.5     0.0      0  10.734015      0  \n",
       "8     2.5     0.0      0  11.586957      0  \n",
       "9     0.0     0.0      0  12.902813      0  "
      ]
     },
     "execution_count": 59,
     "metadata": {},
     "output_type": "execute_result"
    }
   ],
   "source": [
    "data.head(10)"
   ]
  },
  {
   "cell_type": "code",
   "execution_count": 60,
   "metadata": {
    "collapsed": false
   },
   "outputs": [
    {
     "data": {
      "text/html": [
       "<div>\n",
       "<table border=\"1\" class=\"dataframe\">\n",
       "  <thead>\n",
       "    <tr style=\"text-align: right;\">\n",
       "      <th></th>\n",
       "      <th>src_uid</th>\n",
       "      <th>trn_uid</th>\n",
       "      <th>purpose</th>\n",
       "      <th>destination</th>\n",
       "      <th>year</th>\n",
       "      <th>spare_time</th>\n",
       "      <th>degree</th>\n",
       "      <th>branch</th>\n",
       "      <th>gender</th>\n",
       "      <th>hostel</th>\n",
       "      <th>state</th>\n",
       "      <th>score</th>\n",
       "      <th>label</th>\n",
       "    </tr>\n",
       "  </thead>\n",
       "  <tbody>\n",
       "    <tr>\n",
       "      <th>62</th>\n",
       "      <td>15</td>\n",
       "      <td>41</td>\n",
       "      <td>0.0</td>\n",
       "      <td>3.586957</td>\n",
       "      <td>0</td>\n",
       "      <td>1.294118</td>\n",
       "      <td>5</td>\n",
       "      <td>4</td>\n",
       "      <td>2.5</td>\n",
       "      <td>0.0</td>\n",
       "      <td>0</td>\n",
       "      <td>16.381074</td>\n",
       "      <td>1</td>\n",
       "    </tr>\n",
       "    <tr>\n",
       "      <th>63</th>\n",
       "      <td>42</td>\n",
       "      <td>43</td>\n",
       "      <td>0.0</td>\n",
       "      <td>5.869565</td>\n",
       "      <td>6</td>\n",
       "      <td>0.647059</td>\n",
       "      <td>5</td>\n",
       "      <td>4</td>\n",
       "      <td>2.5</td>\n",
       "      <td>0.0</td>\n",
       "      <td>1</td>\n",
       "      <td>25.016624</td>\n",
       "      <td>1</td>\n",
       "    </tr>\n",
       "    <tr>\n",
       "      <th>64</th>\n",
       "      <td>42</td>\n",
       "      <td>46</td>\n",
       "      <td>7.5</td>\n",
       "      <td>4.891304</td>\n",
       "      <td>0</td>\n",
       "      <td>0.647059</td>\n",
       "      <td>0</td>\n",
       "      <td>0</td>\n",
       "      <td>0.0</td>\n",
       "      <td>0.0</td>\n",
       "      <td>0</td>\n",
       "      <td>13.038363</td>\n",
       "      <td>1</td>\n",
       "    </tr>\n",
       "    <tr>\n",
       "      <th>65</th>\n",
       "      <td>42</td>\n",
       "      <td>55</td>\n",
       "      <td>0.0</td>\n",
       "      <td>7.500000</td>\n",
       "      <td>0</td>\n",
       "      <td>1.941176</td>\n",
       "      <td>0</td>\n",
       "      <td>0</td>\n",
       "      <td>2.5</td>\n",
       "      <td>0.0</td>\n",
       "      <td>0</td>\n",
       "      <td>11.941176</td>\n",
       "      <td>0</td>\n",
       "    </tr>\n",
       "    <tr>\n",
       "      <th>66</th>\n",
       "      <td>60</td>\n",
       "      <td>62</td>\n",
       "      <td>0.0</td>\n",
       "      <td>4.891304</td>\n",
       "      <td>6</td>\n",
       "      <td>1.941176</td>\n",
       "      <td>5</td>\n",
       "      <td>0</td>\n",
       "      <td>2.5</td>\n",
       "      <td>0.0</td>\n",
       "      <td>0</td>\n",
       "      <td>20.332481</td>\n",
       "      <td>1</td>\n",
       "    </tr>\n",
       "    <tr>\n",
       "      <th>67</th>\n",
       "      <td>60</td>\n",
       "      <td>77</td>\n",
       "      <td>0.0</td>\n",
       "      <td>2.608696</td>\n",
       "      <td>0</td>\n",
       "      <td>1.941176</td>\n",
       "      <td>5</td>\n",
       "      <td>4</td>\n",
       "      <td>0.0</td>\n",
       "      <td>0.0</td>\n",
       "      <td>0</td>\n",
       "      <td>13.549872</td>\n",
       "      <td>1</td>\n",
       "    </tr>\n",
       "    <tr>\n",
       "      <th>68</th>\n",
       "      <td>60</td>\n",
       "      <td>80</td>\n",
       "      <td>0.0</td>\n",
       "      <td>4.891304</td>\n",
       "      <td>0</td>\n",
       "      <td>2.911765</td>\n",
       "      <td>5</td>\n",
       "      <td>0</td>\n",
       "      <td>0.0</td>\n",
       "      <td>0.0</td>\n",
       "      <td>0</td>\n",
       "      <td>12.803069</td>\n",
       "      <td>0</td>\n",
       "    </tr>\n",
       "    <tr>\n",
       "      <th>69</th>\n",
       "      <td>87</td>\n",
       "      <td>89</td>\n",
       "      <td>0.0</td>\n",
       "      <td>5.869565</td>\n",
       "      <td>6</td>\n",
       "      <td>0.970588</td>\n",
       "      <td>5</td>\n",
       "      <td>0</td>\n",
       "      <td>0.0</td>\n",
       "      <td>0.0</td>\n",
       "      <td>0</td>\n",
       "      <td>17.840153</td>\n",
       "      <td>1</td>\n",
       "    </tr>\n",
       "    <tr>\n",
       "      <th>70</th>\n",
       "      <td>87</td>\n",
       "      <td>94</td>\n",
       "      <td>7.5</td>\n",
       "      <td>4.891304</td>\n",
       "      <td>0</td>\n",
       "      <td>1.294118</td>\n",
       "      <td>5</td>\n",
       "      <td>0</td>\n",
       "      <td>0.0</td>\n",
       "      <td>0.0</td>\n",
       "      <td>0</td>\n",
       "      <td>18.685422</td>\n",
       "      <td>1</td>\n",
       "    </tr>\n",
       "    <tr>\n",
       "      <th>71</th>\n",
       "      <td>87</td>\n",
       "      <td>96</td>\n",
       "      <td>0.0</td>\n",
       "      <td>1.956522</td>\n",
       "      <td>0</td>\n",
       "      <td>2.911765</td>\n",
       "      <td>5</td>\n",
       "      <td>0</td>\n",
       "      <td>2.5</td>\n",
       "      <td>0.0</td>\n",
       "      <td>0</td>\n",
       "      <td>12.368286</td>\n",
       "      <td>0</td>\n",
       "    </tr>\n",
       "  </tbody>\n",
       "</table>\n",
       "</div>"
      ],
      "text/plain": [
       "    src_uid  trn_uid  purpose  destination  year  spare_time  degree  branch  \\\n",
       "62       15       41      0.0     3.586957     0    1.294118       5       4   \n",
       "63       42       43      0.0     5.869565     6    0.647059       5       4   \n",
       "64       42       46      7.5     4.891304     0    0.647059       0       0   \n",
       "65       42       55      0.0     7.500000     0    1.941176       0       0   \n",
       "66       60       62      0.0     4.891304     6    1.941176       5       0   \n",
       "67       60       77      0.0     2.608696     0    1.941176       5       4   \n",
       "68       60       80      0.0     4.891304     0    2.911765       5       0   \n",
       "69       87       89      0.0     5.869565     6    0.970588       5       0   \n",
       "70       87       94      7.5     4.891304     0    1.294118       5       0   \n",
       "71       87       96      0.0     1.956522     0    2.911765       5       0   \n",
       "\n",
       "    gender  hostel  state      score  label  \n",
       "62     2.5     0.0      0  16.381074      1  \n",
       "63     2.5     0.0      1  25.016624      1  \n",
       "64     0.0     0.0      0  13.038363      1  \n",
       "65     2.5     0.0      0  11.941176      0  \n",
       "66     2.5     0.0      0  20.332481      1  \n",
       "67     0.0     0.0      0  13.549872      1  \n",
       "68     0.0     0.0      0  12.803069      0  \n",
       "69     0.0     0.0      0  17.840153      1  \n",
       "70     0.0     0.0      0  18.685422      1  \n",
       "71     2.5     0.0      0  12.368286      0  "
      ]
     },
     "execution_count": 60,
     "metadata": {},
     "output_type": "execute_result"
    }
   ],
   "source": [
    "data.tail(10)"
   ]
  },
  {
   "cell_type": "code",
   "execution_count": 61,
   "metadata": {
    "collapsed": false
   },
   "outputs": [
    {
     "data": {
      "text/plain": [
       "(72, 13)"
      ]
     },
     "execution_count": 61,
     "metadata": {},
     "output_type": "execute_result"
    }
   ],
   "source": [
    "data.shape"
   ]
  },
  {
   "cell_type": "markdown",
   "metadata": {},
   "source": [
    "#### Pre-processing data for fitting"
   ]
  },
  {
   "cell_type": "code",
   "execution_count": 63,
   "metadata": {
    "collapsed": false
   },
   "outputs": [],
   "source": [
    "# X -- Feature vectors - Type - Dataframe\n",
    "\n",
    "#to_keep = ['purpose', 'destination' ,'year','spare_time','degree','branch','gender','hostel','state']\n",
    "y=data['label']\n",
    "\n",
    "#X = data[to_keep]\n",
    "#Drop all unecessary data\n",
    "to_drop = ['src_uid','trn_uid','score','label']\n",
    "X = data.drop(to_drop,axis=1)\n"
   ]
  },
  {
   "cell_type": "code",
   "execution_count": 64,
   "metadata": {
    "collapsed": false
   },
   "outputs": [
    {
     "data": {
      "text/html": [
       "<div>\n",
       "<table border=\"1\" class=\"dataframe\">\n",
       "  <thead>\n",
       "    <tr style=\"text-align: right;\">\n",
       "      <th></th>\n",
       "      <th>purpose</th>\n",
       "      <th>destination</th>\n",
       "      <th>year</th>\n",
       "      <th>spare_time</th>\n",
       "      <th>degree</th>\n",
       "      <th>branch</th>\n",
       "      <th>gender</th>\n",
       "      <th>hostel</th>\n",
       "      <th>state</th>\n",
       "    </tr>\n",
       "  </thead>\n",
       "  <tbody>\n",
       "    <tr>\n",
       "      <th>0</th>\n",
       "      <td>0.0</td>\n",
       "      <td>6.847826</td>\n",
       "      <td>6</td>\n",
       "      <td>1.294118</td>\n",
       "      <td>5</td>\n",
       "      <td>4</td>\n",
       "      <td>0.0</td>\n",
       "      <td>0.0</td>\n",
       "      <td>0</td>\n",
       "    </tr>\n",
       "    <tr>\n",
       "      <th>1</th>\n",
       "      <td>0.0</td>\n",
       "      <td>4.239130</td>\n",
       "      <td>6</td>\n",
       "      <td>3.558824</td>\n",
       "      <td>5</td>\n",
       "      <td>0</td>\n",
       "      <td>2.5</td>\n",
       "      <td>2.5</td>\n",
       "      <td>0</td>\n",
       "    </tr>\n",
       "    <tr>\n",
       "      <th>2</th>\n",
       "      <td>0.0</td>\n",
       "      <td>5.217391</td>\n",
       "      <td>0</td>\n",
       "      <td>0.647059</td>\n",
       "      <td>5</td>\n",
       "      <td>0</td>\n",
       "      <td>0.0</td>\n",
       "      <td>0.0</td>\n",
       "      <td>0</td>\n",
       "    </tr>\n",
       "    <tr>\n",
       "      <th>3</th>\n",
       "      <td>0.0</td>\n",
       "      <td>2.608696</td>\n",
       "      <td>0</td>\n",
       "      <td>4.852941</td>\n",
       "      <td>5</td>\n",
       "      <td>0</td>\n",
       "      <td>0.0</td>\n",
       "      <td>0.0</td>\n",
       "      <td>0</td>\n",
       "    </tr>\n",
       "    <tr>\n",
       "      <th>4</th>\n",
       "      <td>0.0</td>\n",
       "      <td>5.217391</td>\n",
       "      <td>0</td>\n",
       "      <td>5.500000</td>\n",
       "      <td>0</td>\n",
       "      <td>4</td>\n",
       "      <td>2.5</td>\n",
       "      <td>0.0</td>\n",
       "      <td>0</td>\n",
       "    </tr>\n",
       "    <tr>\n",
       "      <th>5</th>\n",
       "      <td>0.0</td>\n",
       "      <td>2.608696</td>\n",
       "      <td>6</td>\n",
       "      <td>0.970588</td>\n",
       "      <td>0</td>\n",
       "      <td>0</td>\n",
       "      <td>2.5</td>\n",
       "      <td>0.0</td>\n",
       "      <td>0</td>\n",
       "    </tr>\n",
       "    <tr>\n",
       "      <th>6</th>\n",
       "      <td>7.5</td>\n",
       "      <td>5.869565</td>\n",
       "      <td>0</td>\n",
       "      <td>2.264706</td>\n",
       "      <td>0</td>\n",
       "      <td>0</td>\n",
       "      <td>2.5</td>\n",
       "      <td>0.0</td>\n",
       "      <td>0</td>\n",
       "    </tr>\n",
       "    <tr>\n",
       "      <th>7</th>\n",
       "      <td>0.0</td>\n",
       "      <td>3.586957</td>\n",
       "      <td>0</td>\n",
       "      <td>0.647059</td>\n",
       "      <td>0</td>\n",
       "      <td>4</td>\n",
       "      <td>2.5</td>\n",
       "      <td>0.0</td>\n",
       "      <td>0</td>\n",
       "    </tr>\n",
       "  </tbody>\n",
       "</table>\n",
       "</div>"
      ],
      "text/plain": [
       "   purpose  destination  year  spare_time  degree  branch  gender  hostel  \\\n",
       "0      0.0     6.847826     6    1.294118       5       4     0.0     0.0   \n",
       "1      0.0     4.239130     6    3.558824       5       0     2.5     2.5   \n",
       "2      0.0     5.217391     0    0.647059       5       0     0.0     0.0   \n",
       "3      0.0     2.608696     0    4.852941       5       0     0.0     0.0   \n",
       "4      0.0     5.217391     0    5.500000       0       4     2.5     0.0   \n",
       "5      0.0     2.608696     6    0.970588       0       0     2.5     0.0   \n",
       "6      7.5     5.869565     0    2.264706       0       0     2.5     0.0   \n",
       "7      0.0     3.586957     0    0.647059       0       4     2.5     0.0   \n",
       "\n",
       "   state  \n",
       "0      0  \n",
       "1      0  \n",
       "2      0  \n",
       "3      0  \n",
       "4      0  \n",
       "5      0  \n",
       "6      0  \n",
       "7      0  "
      ]
     },
     "execution_count": 64,
     "metadata": {},
     "output_type": "execute_result"
    }
   ],
   "source": [
    "#Feature vector \n",
    "X.head(8)\n",
    "#X.ix[:5,4:]"
   ]
  },
  {
   "cell_type": "code",
   "execution_count": 18,
   "metadata": {
    "collapsed": false
   },
   "outputs": [
    {
     "name": "stdout",
     "output_type": "stream",
     "text": [
      "<class 'pandas.core.frame.DataFrame'>\n",
      "<class 'pandas.core.series.Series'>\n"
     ]
    }
   ],
   "source": [
    "# y -- Target values - Type - Series\n",
    "y=X['Default_Flag']\n",
    "\n",
    "to_drop = ['Default_Flag','Cibil_Score','SD_Score','Due_30_Days','Due_60_Days','Due_90_Days']\n",
    "\n",
    "X = X.drop(to_drop,axis=1)\n",
    "\n",
    "print type(X)\n",
    "print type(y)\n",
    "#print len(y),len(X)"
   ]
  },
  {
   "cell_type": "markdown",
   "metadata": {},
   "source": [
    "### Hyper-Parameter Tuning\n",
    "\n",
    "* ### K-Fold Cross validation"
   ]
  },
  {
   "cell_type": "code",
   "execution_count": 74,
   "metadata": {
    "collapsed": false
   },
   "outputs": [
    {
     "name": "stdout",
     "output_type": "stream",
     "text": [
      "[ 0.75        0.66666667  0.70833333]\n"
     ]
    }
   ],
   "source": [
    "#A demo display of cross validation with no of neurons in hidden layer = 27\n",
    "\n",
    "clf = MLPClassifier(hidden_layer_sizes=(7))\n",
    "scores = cross_val_score(clf, X, y, cv=3, scoring='accuracy')\n",
    "print scores"
   ]
  },
  {
   "cell_type": "code",
   "execution_count": 94,
   "metadata": {
    "collapsed": false
   },
   "outputs": [
    {
     "name": "stdout",
     "output_type": "stream",
     "text": [
      "0.763888888889\n"
     ]
    }
   ],
   "source": [
    "# use average accuracy as an estimate of out-of-sample accuracy\n",
    "print scores.mean()"
   ]
  },
  {
   "cell_type": "code",
   "execution_count": 95,
   "metadata": {
    "collapsed": false
   },
   "outputs": [
    {
     "name": "stdout",
     "output_type": "stream",
     "text": [
      "[2, 3, 4, 5, 6, 7, 8]\n",
      "[ 0.79166667  0.70833333  0.70833333]\n",
      "[ 0.70833333  0.75        0.91666667]\n",
      "[ 0.75        0.70833333  0.70833333]\n",
      "[ 0.70833333  0.66666667  0.875     ]\n",
      "[ 0.75        0.70833333  0.79166667]\n",
      "[ 0.75        0.70833333  0.58333333]\n",
      "[ 0.75        0.83333333  0.875     ]\n",
      "[0.73611111111111116, 0.79166666666666663, 0.72222222222222232, 0.75, 0.75, 0.68055555555555569, 0.81944444444444453]\n"
     ]
    }
   ],
   "source": [
    "# search for an optimal value of Number of neurons in hidden layer-1 for Multiple Layer Perceptron\n",
    "#\n",
    "#X.shape[1] holds number of features\n",
    "n_range = range(2, X.shape[1])\n",
    "print n_range\n",
    "n_scores = []\n",
    "for n in n_range:\n",
    "    clf = MLPClassifier(hidden_layer_sizes=n)\n",
    "    scores = cross_val_score(clf, X, y, cv=3, scoring='accuracy')\n",
    "    print scores\n",
    "    n_scores.append(scores.mean())\n",
    "print n_scores"
   ]
  },
  {
   "cell_type": "code",
   "execution_count": 96,
   "metadata": {
    "collapsed": true
   },
   "outputs": [],
   "source": [
    "## DANGER - DONT Re-RUN ; Use Pickle\n",
    "cross_val_single_layer = open('cross_val_single_layer.pickle', 'wb')\n",
    "\n",
    "# Pickle the list using the highest protocol available.\n",
    "pickle.dump(n_scores, cross_val_single_layer, -1) ###\n",
    "\n",
    "cross_val_single_layer.close()"
   ]
  },
  {
   "cell_type": "code",
   "execution_count": 97,
   "metadata": {
    "collapsed": true
   },
   "outputs": [],
   "source": [
    "#Loading data from pickle file directly\n",
    "n_range = range(2, X.shape[1])\n",
    "pkl_file_cross_val = open('cross_val_single_layer.pickle', 'rb')\n",
    "n_scores = pickle.load(pkl_file_cross_val)\n",
    "pkl_file_cross_val.close()"
   ]
  },
  {
   "cell_type": "code",
   "execution_count": 98,
   "metadata": {
    "collapsed": false
   },
   "outputs": [
    {
     "name": "stdout",
     "output_type": "stream",
     "text": [
      "0.75\n"
     ]
    }
   ],
   "source": [
    "# use average accuracy as an estimate of out-of-sample accuracy\n",
    "print sum(n_scores)/float(len(n_scores))"
   ]
  },
  {
   "cell_type": "markdown",
   "metadata": {},
   "source": [
    "#### Machine learning - Modeling "
   ]
  },
  {
   "cell_type": "code",
   "execution_count": 99,
   "metadata": {
    "collapsed": false
   },
   "outputs": [],
   "source": [
    "# default split is 75% for training and 25% for testing\n",
    "X_train, X_test, y_train, y_test = train_test_split(X, y)\n",
    "\n",
    "#Prediction of test and training data\n",
    "\n",
    "#n for which accuracy is maximum in single hidden layer using cross validation\n",
    "n=n_range[n_scores.index(max(n_scores))]\n",
    "#print n\n",
    "\n",
    "#SET CLF AGAIN TO BEST N FIRST\n",
    "clf= MLPClassifier(hidden_layer_sizes=n)\n",
    "clf.fit(X_train,y_train)\n",
    "\n",
    "y_pred_test = clf.predict(X_test)\n",
    "y_pred_train = clf.predict(X_train)\n",
    "y_pred_proba_test = clf.predict_proba(X_test)\n",
    "y_pred_proba_train = clf.predict_proba(X_train)\n"
   ]
  },
  {
   "cell_type": "markdown",
   "metadata": {},
   "source": [
    "* #### Accuracy"
   ]
  },
  {
   "cell_type": "code",
   "execution_count": 101,
   "metadata": {
    "collapsed": false
   },
   "outputs": [
    {
     "name": "stdout",
     "output_type": "stream",
     "text": [
      "Test Accuracy (Single hidden layer CV) -  0.722222222222\n",
      "Training Accuracy (Single hidden layer CV) -  0.833333333333\n"
     ]
    }
   ],
   "source": [
    "print \"Test Accuracy (Single hidden layer CV) - \", metrics.accuracy_score(y_test, y_pred_test)\n",
    "print \"Training Accuracy (Single hidden layer CV) - \", metrics.accuracy_score(y_train, y_pred_train)\n"
   ]
  },
  {
   "cell_type": "code",
   "execution_count": 102,
   "metadata": {
    "collapsed": false
   },
   "outputs": [
    {
     "name": "stdout",
     "output_type": "stream",
     "text": [
      "Saving classifier to '/Users/paawan/Desktop/nn_classifier.pkl'\n"
     ]
    }
   ],
   "source": [
    "cwd = os.getcwd()\n",
    "fName = \"{}/nn_classifier.pkl\".format(cwd)\n",
    "print(\"Saving classifier to '{}'\".format(fName))\n",
    "with open(fName, 'w') as f:\n",
    "    pickle.dump(clf, f)"
   ]
  }
 ],
 "metadata": {
  "anaconda-cloud": {},
  "kernelspec": {
   "display_name": "Python [Root]",
   "language": "python",
   "name": "Python [Root]"
  },
  "language_info": {
   "codemirror_mode": {
    "name": "ipython",
    "version": 2
   },
   "file_extension": ".py",
   "mimetype": "text/x-python",
   "name": "python",
   "nbconvert_exporter": "python",
   "pygments_lexer": "ipython2",
   "version": "2.7.12"
  }
 },
 "nbformat": 4,
 "nbformat_minor": 0
}
